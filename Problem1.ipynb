{
  "nbformat": 4,
  "nbformat_minor": 0,
  "metadata": {
    "colab": {
      "name": "Problem1.ipynb",
      "provenance": [],
      "collapsed_sections": []
    },
    "kernelspec": {
      "name": "python3",
      "display_name": "Python 3"
    },
    "language_info": {
      "name": "python"
    }
  },
  "cells": [
    {
      "cell_type": "markdown",
      "metadata": {
        "id": "wywT2SUEfRWf"
      },
      "source": [
        "### Problem 1 \n",
        "\n",
        "### calculating the probability of being Covid positive given the pool tested positive\n"
      ]
    },
    {
      "cell_type": "markdown",
      "metadata": {
        "id": "4PinKrBnfOmB"
      },
      "source": [
        "To calculate being  covid positive given the pool tested positive, we need to understand bayesian statistics.\n",
        "\n",
        "so let's start with the baye's theorem,\n",
        "\n",
        "   $P(A/B) = \\frac{P(B/A) P(A)}{P(B)}$\n",
        "   \n",
        "Here we can think of \n",
        "\n",
        "* $P(A/B)$ as probability of being positive given the pool is positive.\n",
        "* A is a statement saying the individual is covid-19 positive. \n",
        "* B is a statement saying pool tested positive. \n",
        "* $P(B)$ says the probability of pool being positive.\n",
        "* $P(A)$ says the probability of the individual being positive.\n",
        "* $P(B/A)$ says the given the individual is positive, chances of pool being positive.\n",
        "\n",
        "There are also ways to think of it interms of the prior, likelyhood and posterior as well.\n",
        "\n",
        "Here, we can calculate $P(B/A)$ which says given that I am covid positive what are the chances of pool being positive as well.Over here I will add some data to it to calculate the probabiltiy. currently saliva test is being done at the university, whose accuracy is 83%, also in the pool i don't know how many people are being tested in a single pool, there are 12 people in the pool so i am going to assume that two people are being tested. so am I going to get tested or not has 1 in 12 chances. also if I get then the chances of me giving positive is 83%. Hence $P(B/A) = \\left(1 /12 \\right) (0.83) = 0.069 $.  One more thing to notice is I didn't account the information were other people in the pool could be positive. \n",
        "\n",
        "Now for $P(B)$, since there is no data on it, we will write it in terms of $P(B) = P(B/A)P(A) + P(B/A')P(A')$. here $P(A)$ is the probability of the given person is infected which in the errie county is 11%. while $P(A')$ would be $1 - P(A)$. while $P(B/A')$ can be calculated using the binomial distribution. it tells us the probability of getting the positive pool given i am not positive,  it also means there could be somebody else in the pool who is positive.  \n",
        "\n",
        "Now for the $P(A)$, the individual is positive given he has tested is 11%.  \n",
        "\n",
        "\n",
        "\n"
      ]
    },
    {
      "cell_type": "code",
      "metadata": {
        "id": "Eq954Z7MO8ar"
      },
      "source": [
        "import numpy as np\n",
        "import tensorflow as tf\n",
        "import tensorflow_probability as tfp\n",
        "import matplotlib.pyplot as plt\n"
      ],
      "execution_count": 26,
      "outputs": []
    },
    {
      "cell_type": "code",
      "metadata": {
        "id": "t_5MAOv_O-Om"
      },
      "source": [
        "n = 12                  # Number of people in a test pool\n",
        "P_A = 0.11              # Probability of an individual testing positive for Covid given he tested\n",
        "P_Adash = 1 - P_A        # probability of an individual tested negative for covid given he tested\n",
        "P_BdivideA = 0.069       # probability of pool tested positive given the individual tested positive"
      ],
      "execution_count": 27,
      "outputs": []
    },
    {
      "cell_type": "code",
      "metadata": {
        "colab": {
          "base_uri": "https://localhost:8080/"
        },
        "id": "6ZFJtpondm7X",
        "outputId": "7c0cf54e-4422-48ce-d1c5-20906ce70b86"
      },
      "source": [
        "Bin = tfp.distributions.Binomial(n, logits=None, probs=P_A)\n",
        "P_BAdash = 0\n",
        "for i in range(1,n-1):\n",
        "    P_BAdash = P_BAdash + Bin.prob(i)\n",
        "\n",
        "tf.print(\"chances of pool becomes bositive even the individual is negative = \",P_BAdash)    \n",
        "P_AB = (P_BA * P_A )/((P_BdivideA * P_A) + (P_BAdash* P_Adash))"
      ],
      "execution_count": 29,
      "outputs": [
        {
          "output_type": "stream",
          "text": [
            "chances of pool becomes bositive even the individual is negative =  0.753009796\n"
          ],
          "name": "stdout"
        }
      ]
    },
    {
      "cell_type": "code",
      "metadata": {
        "colab": {
          "base_uri": "https://localhost:8080/"
        },
        "id": "DsRv4LXGdulA",
        "outputId": "6f756e13-1125-4df4-d310-de00af414132"
      },
      "source": [
        "\n",
        "print(\"probability of individual tested positive\")\n",
        "tf.print(\"P(A) = 11[%]: P(A|B) = \",P_AB*100,\"[%]\")"
      ],
      "execution_count": 30,
      "outputs": [
        {
          "output_type": "stream",
          "text": [
            "probability of individual tested positive\n",
            "P(A) = 11[%]: P(A|B) =  1.11985099 [%]\n"
          ],
          "name": "stdout"
        }
      ]
    },
    {
      "cell_type": "code",
      "metadata": {
        "id": "P86mHSq_eGBi"
      },
      "source": [
        ""
      ],
      "execution_count": null,
      "outputs": []
    }
  ]
}